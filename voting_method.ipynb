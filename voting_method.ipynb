{
 "cells": [
  {
   "cell_type": "markdown",
   "id": "23a2e1db",
   "metadata": {},
   "source": [
    "## Modelagem de Tópicos do Noticiário Financeiro"
   ]
  },
  {
   "cell_type": "code",
   "execution_count": 23,
   "id": "fa78966f",
   "metadata": {},
   "outputs": [],
   "source": [
    "# Imports\n",
    "import numpy as np\n",
    "from nltk.corpus import stopwords\n",
    "from sklearn.datasets import load_files\n",
    "from sklearn.feature_extraction.text import TfidfVectorizer\n",
    "from sklearn.model_selection import train_test_split\n",
    "from sklearn.linear_model import LogisticRegression\n",
    "from sklearn.naive_bayes import MultinomialNB\n",
    "from sklearn.ensemble import RandomForestClassifier, VotingClassifier\n",
    "from sklearn.metrics import accuracy_score"
   ]
  },
  {
   "cell_type": "code",
   "execution_count": 24,
   "id": "6bd47b0b",
   "metadata": {},
   "outputs": [
    {
     "name": "stderr",
     "output_type": "stream",
     "text": [
      "[nltk_data] Downloading package stopwords to\n",
      "[nltk_data]     C:\\Users\\theyl\\AppData\\Roaming\\nltk_data...\n",
      "[nltk_data]   Package stopwords is already up-to-date!\n"
     ]
    },
    {
     "data": {
      "text/plain": [
       "True"
      ]
     },
     "execution_count": 24,
     "metadata": {},
     "output_type": "execute_result"
    }
   ],
   "source": [
    ">>> import nltk\n",
    ">>> nltk.download('stopwords')"
   ]
  },
  {
   "cell_type": "code",
   "execution_count": 25,
   "id": "bfdc4789",
   "metadata": {},
   "outputs": [],
   "source": [
    "# Loading the data\n",
    "noticias = load_files('dados', encoding = 'utf-8', decode_error = 'replace')"
   ]
  },
  {
   "cell_type": "code",
   "execution_count": 26,
   "id": "b2aaf15d",
   "metadata": {},
   "outputs": [],
   "source": [
    "# Separating input and output variables\n",
    "X = noticias.data\n",
    "y = noticias.target"
   ]
  },
  {
   "cell_type": "code",
   "execution_count": 27,
   "id": "59167d94",
   "metadata": {},
   "outputs": [],
   "source": [
    "# Empty list and dictionary to save the values\n",
    "d = {}\n",
    "d['soft'] = []\n",
    "d['hard'] = []"
   ]
  },
  {
   "cell_type": "markdown",
   "id": "e9098b47",
   "metadata": {},
   "source": [
    "## Creating the models\n",
    "\n",
    "1. First, we need to split the data into training and testing sets using the train_test_split() method from the sklearn.model_selection module.\n",
    "\n",
    "\n",
    "2. Then, we call the stopwords method from the nltk.corpus module to eliminate words that are so commonly used that they carry very little useful information.\n",
    "\n",
    "\n",
    "3. Next, we create a vectorizer using the TfidfVectorizer() method from the sklearn.feature_extraction.text module, which will transform the text into a numerical representation.\n",
    "\n",
    "\n",
    "4. We apply the vectorization on both the training and testing sets of the input data using the fit_transform() and transform() methods, respectively.\n",
    "\n",
    "\n",
    "5. We create three models: a Logistic Regression model, a Random Forest model, and a Multinomial Naive Bayes model.\n",
    "\n",
    "\n",
    "6. We perform another for loop with two iterations: one for a \"soft\" voting classifier and another for a \"hard\" voting classifier.\n",
    "\n",
    "\n",
    "7. For each iteration of the loop, we create a voting classifier using the VotingClassifier() method from the sklearn.ensemble module. The voting classifier combines the three models created earlier with the voting method specified in the loop (soft or hard).\n",
    "\n",
    "\n",
    "8. We fit the voting classifier on the training set of the input data using the fit() method.\n",
    "\n",
    "\n",
    "9. We predict the categories of the testing set of the input data using the fitted voting classifier and the predict() method.\n",
    "\n",
    "\n",
    "10. We calculate and print the accuracy score for the predictions using the accuracy_score() method from the sklearn.metrics module.\n",
    "\n",
    "\n",
    "11. We append the accuracy score to a dictionary d with the corresponding voting method and iteration number.\n",
    "\n",
    "\n",
    "12. After the outer for loop completes, we print the best results based on the highest accuracy score for each voting method using the max() and key() functions."
   ]
  },
  {
   "cell_type": "code",
   "execution_count": 29,
   "id": "9bdf0552",
   "metadata": {},
   "outputs": [
    {
     "name": "stdout",
     "output_type": "stream",
     "text": [
      "-Random State: 1 -Voting: soft -Acurácia : 0.968562874251497\n",
      "-Random State: 1 -Voting: hard -Acurácia : 0.9670658682634731\n",
      "-Random State: 2 -Voting: soft -Acurácia : 0.9730538922155688\n",
      "-Random State: 2 -Voting: hard -Acurácia : 0.9775449101796407\n",
      "-Random State: 3 -Voting: soft -Acurácia : 0.9745508982035929\n",
      "-Random State: 3 -Voting: hard -Acurácia : 0.9790419161676647\n",
      "-Random State: 4 -Voting: soft -Acurácia : 0.9700598802395209\n",
      "-Random State: 4 -Voting: hard -Acurácia : 0.9745508982035929\n",
      "-Random State: 5 -Voting: soft -Acurácia : 0.9625748502994012\n",
      "-Random State: 5 -Voting: hard -Acurácia : 0.9670658682634731\n",
      "-Random State: 6 -Voting: soft -Acurácia : 0.9565868263473054\n",
      "-Random State: 6 -Voting: hard -Acurácia : 0.9655688622754491\n",
      "-Random State: 7 -Voting: soft -Acurácia : 0.9670658682634731\n",
      "-Random State: 7 -Voting: hard -Acurácia : 0.9655688622754491\n",
      "-Random State: 8 -Voting: soft -Acurácia : 0.9760479041916168\n",
      "-Random State: 8 -Voting: hard -Acurácia : 0.9835329341317365\n",
      "-Random State: 9 -Voting: soft -Acurácia : 0.9805389221556886\n",
      "-Random State: 9 -Voting: hard -Acurácia : 0.9790419161676647\n",
      "-Random State: 10 -Voting: soft -Acurácia : 0.9595808383233533\n",
      "-Random State: 10 -Voting: hard -Acurácia : 0.9670658682634731\n",
      "-Random State: 11 -Voting: soft -Acurácia : 0.9670658682634731\n",
      "-Random State: 11 -Voting: hard -Acurácia : 0.9730538922155688\n",
      "-Random State: 12 -Voting: soft -Acurácia : 0.9790419161676647\n",
      "-Random State: 12 -Voting: hard -Acurácia : 0.9805389221556886\n",
      "-Random State: 13 -Voting: soft -Acurácia : 0.9610778443113772\n",
      "-Random State: 13 -Voting: hard -Acurácia : 0.9700598802395209\n",
      "-Random State: 14 -Voting: soft -Acurácia : 0.9715568862275449\n",
      "-Random State: 14 -Voting: hard -Acurácia : 0.968562874251497\n",
      "-Random State: 15 -Voting: soft -Acurácia : 0.9730538922155688\n",
      "-Random State: 15 -Voting: hard -Acurácia : 0.9760479041916168\n",
      "-Random State: 16 -Voting: soft -Acurácia : 0.9700598802395209\n",
      "-Random State: 16 -Voting: hard -Acurácia : 0.9745508982035929\n",
      "-Random State: 17 -Voting: soft -Acurácia : 0.9625748502994012\n",
      "-Random State: 17 -Voting: hard -Acurácia : 0.9655688622754491\n",
      "-Random State: 18 -Voting: soft -Acurácia : 0.968562874251497\n",
      "-Random State: 18 -Voting: hard -Acurácia : 0.9670658682634731\n",
      "-Random State: 19 -Voting: soft -Acurácia : 0.9625748502994012\n",
      "-Random State: 19 -Voting: hard -Acurácia : 0.9730538922155688\n",
      "\n",
      "Melhores Resultados:\n"
     ]
    }
   ],
   "source": [
    "# Loop\n",
    "for x in range(1,10):\n",
    "\n",
    "    # Divisão treino/teste\n",
    "    X_treino, X_teste, y_treino, y_teste = train_test_split(X, y, test_size=0.30, random_state = x)\n",
    "\n",
    "    # Stop words\n",
    "    my_stop_words = set(stopwords.words('english'))\n",
    "\n",
    "    # Vetorização\n",
    "    vectorizer = TfidfVectorizer(norm = None, stop_words = my_stop_words, max_features = 1000, decode_error = \"ignore\")\n",
    "\n",
    "    # Aplica a vetorização\n",
    "    X_treino_vectors = vectorizer.fit_transform(X_treino)\n",
    "    X_teste_vectors = vectorizer.transform(X_teste)\n",
    "\n",
    "    # Cria os modelos base\n",
    "    modelo1 = LogisticRegression(multi_class = 'multinomial', solver = 'lbfgs', random_state = 30, max_iter = 1000)\n",
    "    modelo2 = RandomForestClassifier(n_estimators = 1000, max_depth = 100, random_state = 1)\n",
    "    modelo3 = MultinomialNB()\n",
    "\n",
    "    # Loop\n",
    "    for i in ['soft','hard']:\n",
    "        voting_model = VotingClassifier(estimators = [ ('lg', modelo1), ('rf', modelo2), ('nb', modelo3)], voting = i)\n",
    "        voting_model = voting_model.fit(X_treino_vectors, y_treino)\n",
    "        previsoes = voting_model.predict(X_teste_vectors)\n",
    "        print('-Random State:', x, '-Voting:', i, '-Accuracy :', accuracy_score(y_teste, previsoes))\n",
    "        d[i].append((x,accuracy_score(y_teste, previsoes)))\n",
    "    "
   ]
  },
  {
   "cell_type": "code",
   "execution_count": 30,
   "id": "4f4faf1c",
   "metadata": {},
   "outputs": [
    {
     "name": "stdout",
     "output_type": "stream",
     "text": [
      "\n",
      "Melhores Resultados:\n"
     ]
    }
   ],
   "source": [
    "# Extracting best results\n",
    "h = max(d['hard'], key = lambda x:x[1])\n",
    "s = max(d['soft'], key = lambda x:x[1])"
   ]
  },
  {
   "cell_type": "code",
   "execution_count": 32,
   "id": "8a52d10d",
   "metadata": {},
   "outputs": [
    {
     "name": "stdout",
     "output_type": "stream",
     "text": [
      "\n",
      "Best Results:\n",
      "-Random State: 8 -Voting:hard -Acurácia: 0.9835329341317365\n",
      "-Random State: 9 -Voting:soft -Acurácia: 0.9805389221556886\n",
      "\n",
      "\n"
     ]
    }
   ],
   "source": [
    "print('\\nBest Results:')\n",
    "print('-Random State:',h[0], '-Voting:hard', '-Accuracy:', h[1])\n",
    "print('-Random State:',s[0], '-Voting:soft', '-Accuracy:', s[1])\n"
   ]
  }
 ],
 "metadata": {
  "kernelspec": {
   "display_name": "Python 3 (ipykernel)",
   "language": "python",
   "name": "python3"
  },
  "language_info": {
   "codemirror_mode": {
    "name": "ipython",
    "version": 3
   },
   "file_extension": ".py",
   "mimetype": "text/x-python",
   "name": "python",
   "nbconvert_exporter": "python",
   "pygments_lexer": "ipython3",
   "version": "3.9.7"
  }
 },
 "nbformat": 4,
 "nbformat_minor": 5
}
